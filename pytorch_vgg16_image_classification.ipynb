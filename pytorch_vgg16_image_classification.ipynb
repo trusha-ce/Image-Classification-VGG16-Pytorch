{
  "nbformat": 4,
  "nbformat_minor": 0,
  "metadata": {
    "colab": {
      "name": "pytorch-vgg16-image-classification.ipynb",
      "provenance": [],
      "collapsed_sections": []
    },
    "kernelspec": {
      "name": "python3",
      "display_name": "Python 3"
    },
    "language_info": {
      "name": "python"
    }
  },
  "cells": [
    {
      "cell_type": "markdown",
      "source": [
        "**Import libraries**"
      ],
      "metadata": {
        "id": "Jru2gqDARiqd"
      }
    },
    {
      "cell_type": "code",
      "source": [
        "import torchvision.models as models\n",
        "from PIL import Image\n",
        "from torchvision import transforms\n",
        "import torch"
      ],
      "metadata": {
        "id": "BzLPbaf_BUWi"
      },
      "execution_count": null,
      "outputs": []
    },
    {
      "cell_type": "markdown",
      "source": [
        "**Import VGG16**"
      ],
      "metadata": {
        "id": "uGqPl-Bc-6G-"
      }
    },
    {
      "cell_type": "code",
      "execution_count": null,
      "metadata": {
        "id": "-y-KTVPC-hTi"
      },
      "outputs": [],
      "source": [
        "model = models.vgg16(pretrained=True)"
      ]
    },
    {
      "cell_type": "markdown",
      "source": [
        "**Import VGG16 label list**"
      ],
      "metadata": {
        "id": "VICFfQILN4ic"
      }
    },
    {
      "cell_type": "code",
      "source": [
        "Label_path = \"./vgg16-label-list.txt\"\n",
        "imagenetLabels = dict(enumerate(open(Label_path)))"
      ],
      "metadata": {
        "id": "5H4yW9FiN4KR"
      },
      "execution_count": null,
      "outputs": []
    },
    {
      "cell_type": "markdown",
      "source": [
        "**Read image**"
      ],
      "metadata": {
        "id": "c4rUC7wQ__p8"
      }
    },
    {
      "cell_type": "code",
      "source": [
        "img = Image.open(\"./dog.jpg\")"
      ],
      "metadata": {
        "id": "3Lnp6jXIACMG"
      },
      "execution_count": null,
      "outputs": []
    },
    {
      "cell_type": "markdown",
      "source": [
        "**Transform image**"
      ],
      "metadata": {
        "id": "kh7xoZrjAWZa"
      }
    },
    {
      "cell_type": "code",
      "source": [
        "transform =   transforms.Compose([\n",
        "        transforms.Resize((224, 224)),\n",
        "        transforms.RandomHorizontalFlip(),\n",
        "        transforms.ColorJitter(brightness=0.2, contrast=0.2, saturation=0.1, hue=0.1),\n",
        "        transforms.RandomAffine(degrees=40, translate=None, scale=(1, 2), shear=15, resample=False, fillcolor=0),\n",
        "        transforms.ToTensor(),\n",
        "        transforms.Normalize((0.485, 0.456, 0.406), (0.229, 0.224, 0.225))\n",
        "])\n",
        "\n",
        "img_t = transform(img)\n",
        "\n",
        "batch_t = torch.unsqueeze(img_t, 0)"
      ],
      "metadata": {
        "colab": {
          "base_uri": "https://localhost:8080/"
        },
        "id": "N3dXjoO4AcS9",
        "outputId": "3dff52d0-bd53-41df-92e2-67ba3dbd8597"
      },
      "execution_count": null,
      "outputs": [
        {
          "output_type": "stream",
          "name": "stderr",
          "text": [
            "/usr/local/lib/python3.7/dist-packages/torchvision/transforms/transforms.py:1362: UserWarning: Argument resample is deprecated and will be removed since v0.10.0. Please, use interpolation instead\n",
            "  \"Argument resample is deprecated and will be removed since v0.10.0. Please, use interpolation instead\"\n",
            "/usr/local/lib/python3.7/dist-packages/torchvision/transforms/transforms.py:1376: UserWarning: Argument fillcolor is deprecated and will be removed since v0.10.0. Please, use fill instead\n",
            "  \"Argument fillcolor is deprecated and will be removed since v0.10.0. Please, use fill instead\"\n"
          ]
        }
      ]
    },
    {
      "cell_type": "markdown",
      "source": [
        "**Set evaluation mode for model**"
      ],
      "metadata": {
        "id": "-ybyfatABro3"
      }
    },
    {
      "cell_type": "code",
      "source": [
        "model.eval()"
      ],
      "metadata": {
        "id": "Rg-FAY6hB1JT"
      },
      "execution_count": null,
      "outputs": []
    },
    {
      "cell_type": "markdown",
      "source": [
        "**Test image on model**"
      ],
      "metadata": {
        "id": "J8D6yoRSCC4A"
      }
    },
    {
      "cell_type": "code",
      "source": [
        "out = model(batch_t)"
      ],
      "metadata": {
        "id": "VMWJlud7B6ZA"
      },
      "execution_count": null,
      "outputs": []
    },
    {
      "cell_type": "markdown",
      "source": [
        "**Extract probability**"
      ],
      "metadata": {
        "id": "Ux2VSFxeDb4i"
      }
    },
    {
      "cell_type": "code",
      "source": [
        "probabilities = torch.nn.Softmax(dim=-1)(out)"
      ],
      "metadata": {
        "id": "GOtH4FuFDa72"
      },
      "execution_count": null,
      "outputs": []
    },
    {
      "cell_type": "markdown",
      "source": [
        "**Print predected class label along with probability**"
      ],
      "metadata": {
        "id": "g9tHEGVIDpCF"
      }
    },
    {
      "cell_type": "code",
      "source": [
        "(label, prob) = (imagenetLabels[probabilities.argmax().item()],probabilities.max().item())\n",
        "print(\"Label: {}\\nPercentage: {:.2f}%\".format(label, prob * 100))"
      ],
      "metadata": {
        "colab": {
          "base_uri": "https://localhost:8080/"
        },
        "id": "yzGBAPr4DsR7",
        "outputId": "31050c70-8da2-4c86-c4a1-f8a44e16d72a"
      },
      "execution_count": null,
      "outputs": [
        {
          "output_type": "stream",
          "name": "stdout",
          "text": [
            "Label: Christmas stocking\n",
            "\n",
            "Percentage: 30.11%\n"
          ]
        }
      ]
    }
  ]
}